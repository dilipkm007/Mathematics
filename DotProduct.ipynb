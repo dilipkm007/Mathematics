{
  "nbformat": 4,
  "nbformat_minor": 0,
  "metadata": {
    "colab": {
      "provenance": [],
      "authorship_tag": "ABX9TyNE4Rs0bC4vZ3OGpM1el5/I",
      "include_colab_link": true
    },
    "kernelspec": {
      "name": "python3",
      "display_name": "Python 3"
    },
    "language_info": {
      "name": "python"
    }
  },
  "cells": [
    {
      "cell_type": "markdown",
      "metadata": {
        "id": "view-in-github",
        "colab_type": "text"
      },
      "source": [
        "<a href=\"https://colab.research.google.com/github/dilipkm007/Mathematics/blob/main/DotProduct.ipynb\" target=\"_parent\"><img src=\"https://colab.research.google.com/assets/colab-badge.svg\" alt=\"Open In Colab\"/></a>"
      ]
    },
    {
      "cell_type": "code",
      "execution_count": 20,
      "metadata": {
        "id": "mKhjD259GEyp"
      },
      "outputs": [],
      "source": [
        "import numpy as np"
      ]
    },
    {
      "cell_type": "markdown",
      "source": [
        "#**Dot Product of vectors and scalars**"
      ],
      "metadata": {
        "id": "OeLNOJl8GMot"
      }
    },
    {
      "cell_type": "code",
      "source": [
        "x = np.array([2, 8, -4])\n",
        "y = np.array([1, -7, 3])"
      ],
      "metadata": {
        "id": "4E71fvgJGSYv"
      },
      "execution_count": 21,
      "outputs": []
    },
    {
      "cell_type": "code",
      "source": [
        "np.dot(x, y)"
      ],
      "metadata": {
        "colab": {
          "base_uri": "https://localhost:8080/"
        },
        "id": "LUoHN598GgFC",
        "outputId": "c3a67941-505f-4b71-f1b1-76b0c516f3c8"
      },
      "execution_count": 22,
      "outputs": [
        {
          "output_type": "execute_result",
          "data": {
            "text/plain": [
              "-66"
            ]
          },
          "metadata": {},
          "execution_count": 22
        }
      ]
    },
    {
      "cell_type": "code",
      "source": [
        "u = np.array([0, 1, 2, 3])\n",
        "v = np.array([3, 2, 1, 0])\n",
        "np.dot(u, v)"
      ],
      "metadata": {
        "colab": {
          "base_uri": "https://localhost:8080/"
        },
        "id": "lTjmkKsIG2kh",
        "outputId": "7ed10864-7be5-4c9f-d61e-5329f8b30235"
      },
      "execution_count": 23,
      "outputs": [
        {
          "output_type": "execute_result",
          "data": {
            "text/plain": [
              "4"
            ]
          },
          "metadata": {},
          "execution_count": 23
        }
      ]
    },
    {
      "cell_type": "markdown",
      "source": [
        "#**Scalrs dot product**"
      ],
      "metadata": {
        "id": "KZQZHtg_HHSM"
      }
    },
    {
      "cell_type": "code",
      "source": [
        "np.dot(6, 7)"
      ],
      "metadata": {
        "colab": {
          "base_uri": "https://localhost:8080/"
        },
        "id": "8Ijd67MeHMRs",
        "outputId": "c1c3f8e4-2a2e-4df9-cf28-b2ede3a14ce6"
      },
      "execution_count": 24,
      "outputs": [
        {
          "output_type": "execute_result",
          "data": {
            "text/plain": [
              "42"
            ]
          },
          "metadata": {},
          "execution_count": 24
        }
      ]
    },
    {
      "cell_type": "code",
      "source": [
        "np.dot(-2,-3)"
      ],
      "metadata": {
        "colab": {
          "base_uri": "https://localhost:8080/"
        },
        "id": "XzKzQiLOHSZI",
        "outputId": "86211685-c71b-4383-980a-2cfdb99dc425"
      },
      "execution_count": 25,
      "outputs": [
        {
          "output_type": "execute_result",
          "data": {
            "text/plain": [
              "6"
            ]
          },
          "metadata": {},
          "execution_count": 25
        }
      ]
    },
    {
      "cell_type": "markdown",
      "source": [
        "#**Scalar and vector dot product**"
      ],
      "metadata": {
        "id": "v6tQ9sk-HX_M"
      }
    },
    {
      "cell_type": "code",
      "source": [
        "z = np.array([6, 2, 4, 3])\n",
        "5*z"
      ],
      "metadata": {
        "colab": {
          "base_uri": "https://localhost:8080/"
        },
        "id": "MCk48GNrHhfv",
        "outputId": "2bf4a6cb-0d96-49c5-c0a2-26b827d9cf54"
      },
      "execution_count": 26,
      "outputs": [
        {
          "output_type": "execute_result",
          "data": {
            "text/plain": [
              "array([30, 10, 20, 15])"
            ]
          },
          "metadata": {},
          "execution_count": 26
        }
      ]
    },
    {
      "cell_type": "markdown",
      "source": [
        "# **Scalars * Matrix**"
      ],
      "metadata": {
        "id": "fKjoc1PzSZDZ"
      }
    },
    {
      "cell_type": "code",
      "source": [
        "A = np.array([[5, 12, 6], [-3, 0, 14]])\n",
        "A"
      ],
      "metadata": {
        "colab": {
          "base_uri": "https://localhost:8080/"
        },
        "id": "ijKw3kzASe9o",
        "outputId": "45b9bf86-8092-47d6-baec-2f6310536b35"
      },
      "execution_count": 27,
      "outputs": [
        {
          "output_type": "execute_result",
          "data": {
            "text/plain": [
              "array([[ 5, 12,  6],\n",
              "       [-3,  0, 14]])"
            ]
          },
          "metadata": {},
          "execution_count": 27
        }
      ]
    },
    {
      "cell_type": "code",
      "source": [
        "3 * A"
      ],
      "metadata": {
        "colab": {
          "base_uri": "https://localhost:8080/"
        },
        "id": "T1nBrBaDTPrW",
        "outputId": "91c60664-ba84-4fb6-9301-1d04a03c99ae"
      },
      "execution_count": 28,
      "outputs": [
        {
          "output_type": "execute_result",
          "data": {
            "text/plain": [
              "array([[15, 36, 18],\n",
              "       [-9,  0, 42]])"
            ]
          },
          "metadata": {},
          "execution_count": 28
        }
      ]
    },
    {
      "cell_type": "markdown",
      "source": [
        "# **Matrix Multiplications**"
      ],
      "metadata": {
        "id": "qO0htxQjbJm7"
      }
    },
    {
      "cell_type": "code",
      "source": [
        "B = np.array([[2, -1], [8, 0], [3, 0]])\n",
        "B"
      ],
      "metadata": {
        "colab": {
          "base_uri": "https://localhost:8080/"
        },
        "id": "amkd0B10bOD9",
        "outputId": "21929767-001e-4c68-a802-7faea5277a2e"
      },
      "execution_count": 29,
      "outputs": [
        {
          "output_type": "execute_result",
          "data": {
            "text/plain": [
              "array([[ 2, -1],\n",
              "       [ 8,  0],\n",
              "       [ 3,  0]])"
            ]
          },
          "metadata": {},
          "execution_count": 29
        }
      ]
    },
    {
      "cell_type": "code",
      "source": [
        "np.dot(A, B)"
      ],
      "metadata": {
        "colab": {
          "base_uri": "https://localhost:8080/"
        },
        "id": "hzSn9_GVbbe5",
        "outputId": "96d57e1f-2b31-4dd0-abaf-1bbc488eb9c7"
      },
      "execution_count": 30,
      "outputs": [
        {
          "output_type": "execute_result",
          "data": {
            "text/plain": [
              "array([[124,  -5],\n",
              "       [ 36,   3]])"
            ]
          },
          "metadata": {},
          "execution_count": 30
        }
      ]
    }
  ]
}