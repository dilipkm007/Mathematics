{
  "nbformat": 4,
  "nbformat_minor": 0,
  "metadata": {
    "colab": {
      "provenance": [],
      "authorship_tag": "ABX9TyMBnymEl5uGgkgwC1HpQnL7",
      "include_colab_link": true
    },
    "kernelspec": {
      "name": "python3",
      "display_name": "Python 3"
    },
    "language_info": {
      "name": "python"
    }
  },
  "cells": [
    {
      "cell_type": "markdown",
      "metadata": {
        "id": "view-in-github",
        "colab_type": "text"
      },
      "source": [
        "<a href=\"https://colab.research.google.com/github/dilipkm007/Mathematics/blob/main/DotProduct.ipynb\" target=\"_parent\"><img src=\"https://colab.research.google.com/assets/colab-badge.svg\" alt=\"Open In Colab\"/></a>"
      ]
    },
    {
      "cell_type": "code",
      "execution_count": 3,
      "metadata": {
        "id": "mKhjD259GEyp"
      },
      "outputs": [],
      "source": [
        "import numpy as np"
      ]
    },
    {
      "cell_type": "markdown",
      "source": [
        "#**Dot Product of vectors and scalars**"
      ],
      "metadata": {
        "id": "OeLNOJl8GMot"
      }
    },
    {
      "cell_type": "code",
      "source": [
        "x = np.array([2, 8, -4])\n",
        "y = np.array([1, -7, 3])"
      ],
      "metadata": {
        "id": "4E71fvgJGSYv"
      },
      "execution_count": 6,
      "outputs": []
    },
    {
      "cell_type": "code",
      "source": [
        "np.dot(x, y)"
      ],
      "metadata": {
        "colab": {
          "base_uri": "https://localhost:8080/"
        },
        "id": "LUoHN598GgFC",
        "outputId": "a0c27660-aa03-413f-990c-37dd63b61e59"
      },
      "execution_count": 7,
      "outputs": [
        {
          "output_type": "execute_result",
          "data": {
            "text/plain": [
              "-66"
            ]
          },
          "metadata": {},
          "execution_count": 7
        }
      ]
    },
    {
      "cell_type": "code",
      "source": [
        "u = np.array([0, 1, 2, 3])\n",
        "v = np.array([3, 2, 1, 0])\n",
        "np.dot(u, v)"
      ],
      "metadata": {
        "colab": {
          "base_uri": "https://localhost:8080/"
        },
        "id": "lTjmkKsIG2kh",
        "outputId": "0f47963b-46fd-4a81-c693-c0256c32e04a"
      },
      "execution_count": 8,
      "outputs": [
        {
          "output_type": "execute_result",
          "data": {
            "text/plain": [
              "4"
            ]
          },
          "metadata": {},
          "execution_count": 8
        }
      ]
    },
    {
      "cell_type": "markdown",
      "source": [
        "#**Scalrs dot product**"
      ],
      "metadata": {
        "id": "KZQZHtg_HHSM"
      }
    },
    {
      "cell_type": "code",
      "source": [
        "np.dot(6, 7)"
      ],
      "metadata": {
        "colab": {
          "base_uri": "https://localhost:8080/"
        },
        "id": "8Ijd67MeHMRs",
        "outputId": "713f0f82-32c8-4f24-dc38-54f65a7164f1"
      },
      "execution_count": 9,
      "outputs": [
        {
          "output_type": "execute_result",
          "data": {
            "text/plain": [
              "42"
            ]
          },
          "metadata": {},
          "execution_count": 9
        }
      ]
    },
    {
      "cell_type": "code",
      "source": [
        "np.dot(-2,-3)"
      ],
      "metadata": {
        "colab": {
          "base_uri": "https://localhost:8080/"
        },
        "id": "XzKzQiLOHSZI",
        "outputId": "2eb05d1a-d0d7-425f-af24-84423d109948"
      },
      "execution_count": 10,
      "outputs": [
        {
          "output_type": "execute_result",
          "data": {
            "text/plain": [
              "6"
            ]
          },
          "metadata": {},
          "execution_count": 10
        }
      ]
    },
    {
      "cell_type": "markdown",
      "source": [
        "#**Scalar and vector dot product**"
      ],
      "metadata": {
        "id": "v6tQ9sk-HX_M"
      }
    },
    {
      "cell_type": "code",
      "source": [
        "z = np.array([6, 2, 4, 3])\n",
        "5*z"
      ],
      "metadata": {
        "colab": {
          "base_uri": "https://localhost:8080/"
        },
        "id": "MCk48GNrHhfv",
        "outputId": "101383d8-3261-4165-a7d4-90414bf6d094"
      },
      "execution_count": 11,
      "outputs": [
        {
          "output_type": "execute_result",
          "data": {
            "text/plain": [
              "array([30, 10, 20, 15])"
            ]
          },
          "metadata": {},
          "execution_count": 11
        }
      ]
    }
  ]
}