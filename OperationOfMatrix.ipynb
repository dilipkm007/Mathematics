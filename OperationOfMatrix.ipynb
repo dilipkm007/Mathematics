{
  "nbformat": 4,
  "nbformat_minor": 0,
  "metadata": {
    "colab": {
      "provenance": [],
      "authorship_tag": "ABX9TyM52Dis2gwQwM2fOpGpol2N",
      "include_colab_link": true
    },
    "kernelspec": {
      "name": "python3",
      "display_name": "Python 3"
    },
    "language_info": {
      "name": "python"
    }
  },
  "cells": [
    {
      "cell_type": "markdown",
      "metadata": {
        "id": "view-in-github",
        "colab_type": "text"
      },
      "source": [
        "<a href=\"https://colab.research.google.com/github/dilipkm007/Mathematics/blob/main/OperationOfMatrix.ipynb\" target=\"_parent\"><img src=\"https://colab.research.google.com/assets/colab-badge.svg\" alt=\"Open In Colab\"/></a>"
      ]
    },
    {
      "cell_type": "code",
      "execution_count": 31,
      "metadata": {
        "id": "AWtgTw8LYyw4"
      },
      "outputs": [],
      "source": [
        "import numpy as np"
      ]
    },
    {
      "cell_type": "markdown",
      "source": [
        "## **Addition**\n",
        "\n"
      ],
      "metadata": {
        "id": "7dtrxLQaY-eb"
      }
    },
    {
      "cell_type": "code",
      "source": [
        "m1 = np.array([[5, 12, 6], [-3, 0, 14]])\n",
        "m2 = np.array([[9, 8, 7], [1, 3, -5]])\n"
      ],
      "metadata": {
        "id": "Rns2PbePZHaT"
      },
      "execution_count": 32,
      "outputs": []
    },
    {
      "cell_type": "code",
      "source": [
        "m1 + m2"
      ],
      "metadata": {
        "colab": {
          "base_uri": "https://localhost:8080/"
        },
        "id": "HKcPlx57ZKn3",
        "outputId": "accae698-5423-4fb2-9772-a9af127aa251"
      },
      "execution_count": 33,
      "outputs": [
        {
          "output_type": "execute_result",
          "data": {
            "text/plain": [
              "array([[14, 20, 13],\n",
              "       [-2,  3,  9]])"
            ]
          },
          "metadata": {},
          "execution_count": 33
        }
      ]
    },
    {
      "cell_type": "markdown",
      "source": [
        "## **Substraction**"
      ],
      "metadata": {
        "id": "yxfcjv-aZc0c"
      }
    },
    {
      "cell_type": "code",
      "source": [
        "m3 = np.array([[5, 3], [-2, 4]])\n",
        "m4 = np.array([[7, -5], [3, 8]])"
      ],
      "metadata": {
        "id": "WhVUtIC1Zhu7"
      },
      "execution_count": 34,
      "outputs": []
    },
    {
      "cell_type": "code",
      "source": [
        "m3 - m4"
      ],
      "metadata": {
        "colab": {
          "base_uri": "https://localhost:8080/"
        },
        "id": "SajP1WDkZ6ZS",
        "outputId": "0bf5d8cd-fbdc-4f7a-efeb-71a4c311b23b"
      },
      "execution_count": 35,
      "outputs": [
        {
          "output_type": "execute_result",
          "data": {
            "text/plain": [
              "array([[-2,  8],\n",
              "       [-5, -4]])"
            ]
          },
          "metadata": {},
          "execution_count": 35
        }
      ]
    },
    {
      "cell_type": "markdown",
      "source": [
        "# **Calculation of Vectors**"
      ],
      "metadata": {
        "id": "QWnfPgIuadc2"
      }
    },
    {
      "cell_type": "code",
      "source": [
        "v1 = np.array([1, 2, 3, 4, 5])\n",
        "v2 = np.array([5, 4, 3, 2, 1])"
      ],
      "metadata": {
        "id": "vp9qOW1Sacrb"
      },
      "execution_count": 36,
      "outputs": []
    },
    {
      "cell_type": "code",
      "source": [
        "v1 + v2"
      ],
      "metadata": {
        "colab": {
          "base_uri": "https://localhost:8080/"
        },
        "id": "hWYym42HabrW",
        "outputId": "4c58f934-5a3a-41f8-904b-2053fd985ad6"
      },
      "execution_count": 37,
      "outputs": [
        {
          "output_type": "execute_result",
          "data": {
            "text/plain": [
              "array([6, 6, 6, 6, 6])"
            ]
          },
          "metadata": {},
          "execution_count": 37
        }
      ]
    },
    {
      "cell_type": "code",
      "source": [
        "v1 - v2"
      ],
      "metadata": {
        "colab": {
          "base_uri": "https://localhost:8080/"
        },
        "id": "Av-keufIaxAD",
        "outputId": "2b3c2e91-bcf5-487b-f88b-6a17f1d07e56"
      },
      "execution_count": 38,
      "outputs": [
        {
          "output_type": "execute_result",
          "data": {
            "text/plain": [
              "array([-4, -2,  0,  2,  4])"
            ]
          },
          "metadata": {},
          "execution_count": 38
        }
      ]
    },
    {
      "cell_type": "markdown",
      "source": [
        "##**Exceptions(addition with a scalar)**\n",
        "The result from it has a meaning in term of arrays, but not in term of linear algebra."
      ],
      "metadata": {
        "id": "eEkAgexsdfM6"
      }
    },
    {
      "cell_type": "code",
      "source": [
        "m1"
      ],
      "metadata": {
        "colab": {
          "base_uri": "https://localhost:8080/"
        },
        "id": "F-2mXH7EdeG3",
        "outputId": "a56631db-f436-4e1e-e5a7-6cb4b1cd7f69"
      },
      "execution_count": 39,
      "outputs": [
        {
          "output_type": "execute_result",
          "data": {
            "text/plain": [
              "array([[ 5, 12,  6],\n",
              "       [-3,  0, 14]])"
            ]
          },
          "metadata": {},
          "execution_count": 39
        }
      ]
    },
    {
      "cell_type": "code",
      "source": [
        "m1 + 1"
      ],
      "metadata": {
        "colab": {
          "base_uri": "https://localhost:8080/"
        },
        "id": "luNuB8k2d7qN",
        "outputId": "a3895aea-c1e5-4e7d-d5af-42b16afef823"
      },
      "execution_count": 41,
      "outputs": [
        {
          "output_type": "execute_result",
          "data": {
            "text/plain": [
              "array([[ 6, 13,  7],\n",
              "       [-2,  1, 15]])"
            ]
          },
          "metadata": {},
          "execution_count": 41
        }
      ]
    },
    {
      "cell_type": "code",
      "source": [
        "v1"
      ],
      "metadata": {
        "colab": {
          "base_uri": "https://localhost:8080/"
        },
        "id": "Kvex6PdXeCa2",
        "outputId": "a3304b0e-fa01-4c55-e144-daba6a3afd0b"
      },
      "execution_count": 43,
      "outputs": [
        {
          "output_type": "execute_result",
          "data": {
            "text/plain": [
              "array([1, 2, 3, 4, 5])"
            ]
          },
          "metadata": {},
          "execution_count": 43
        }
      ]
    },
    {
      "cell_type": "code",
      "source": [
        "v1 + 1"
      ],
      "metadata": {
        "colab": {
          "base_uri": "https://localhost:8080/"
        },
        "id": "yXp8Kv0peDgC",
        "outputId": "1837951d-e2ba-49f7-ade9-54dc2a040719"
      },
      "execution_count": 42,
      "outputs": [
        {
          "output_type": "execute_result",
          "data": {
            "text/plain": [
              "array([2, 3, 4, 5, 6])"
            ]
          },
          "metadata": {},
          "execution_count": 42
        }
      ]
    },
    {
      "cell_type": "code",
      "source": [
        "m1 + np.array([1])"
      ],
      "metadata": {
        "colab": {
          "base_uri": "https://localhost:8080/"
        },
        "id": "KCP8NBbZeKhE",
        "outputId": "d6651989-3ce3-4926-b04b-a8a77c5d39d1"
      },
      "execution_count": 44,
      "outputs": [
        {
          "output_type": "execute_result",
          "data": {
            "text/plain": [
              "array([[ 6, 13,  7],\n",
              "       [-2,  1, 15]])"
            ]
          },
          "metadata": {},
          "execution_count": 44
        }
      ]
    },
    {
      "cell_type": "code",
      "source": [
        "v1 + np.array([1])"
      ],
      "metadata": {
        "colab": {
          "base_uri": "https://localhost:8080/"
        },
        "id": "g_-_eVIfeQLo",
        "outputId": "56b8a3f0-f40d-4a22-8014-1662d20164e7"
      },
      "execution_count": 45,
      "outputs": [
        {
          "output_type": "execute_result",
          "data": {
            "text/plain": [
              "array([2, 3, 4, 5, 6])"
            ]
          },
          "metadata": {},
          "execution_count": 45
        }
      ]
    }
  ]
}