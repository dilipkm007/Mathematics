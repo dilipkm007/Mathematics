{
  "nbformat": 4,
  "nbformat_minor": 0,
  "metadata": {
    "colab": {
      "provenance": [],
      "authorship_tag": "ABX9TyOowItU38T4SNUbVWIZE2Xv",
      "include_colab_link": true
    },
    "kernelspec": {
      "name": "python3",
      "display_name": "Python 3"
    },
    "language_info": {
      "name": "python"
    }
  },
  "cells": [
    {
      "cell_type": "markdown",
      "metadata": {
        "id": "view-in-github",
        "colab_type": "text"
      },
      "source": [
        "<a href=\"https://colab.research.google.com/github/dilipkm007/Mathematics/blob/main/OperationOfMatrix.ipynb\" target=\"_parent\"><img src=\"https://colab.research.google.com/assets/colab-badge.svg\" alt=\"Open In Colab\"/></a>"
      ]
    },
    {
      "cell_type": "code",
      "execution_count": 14,
      "metadata": {
        "id": "AWtgTw8LYyw4"
      },
      "outputs": [],
      "source": [
        "import numpy as np"
      ]
    },
    {
      "cell_type": "markdown",
      "source": [
        "## **Addition**\n",
        "\n"
      ],
      "metadata": {
        "id": "7dtrxLQaY-eb"
      }
    },
    {
      "cell_type": "code",
      "source": [
        "m1 = np.array([[5, 12, 6], [-3, 0, 14]])\n",
        "m2 = np.array([[9, 8, 7], [1, 3, -5]])\n"
      ],
      "metadata": {
        "id": "Rns2PbePZHaT"
      },
      "execution_count": 15,
      "outputs": []
    },
    {
      "cell_type": "code",
      "source": [
        "m1 + m2"
      ],
      "metadata": {
        "colab": {
          "base_uri": "https://localhost:8080/"
        },
        "id": "HKcPlx57ZKn3",
        "outputId": "c9a7c92b-202e-4fe0-f247-963b20a14a0a"
      },
      "execution_count": 16,
      "outputs": [
        {
          "output_type": "execute_result",
          "data": {
            "text/plain": [
              "array([[14, 20, 13],\n",
              "       [-2,  3,  9]])"
            ]
          },
          "metadata": {},
          "execution_count": 16
        }
      ]
    },
    {
      "cell_type": "markdown",
      "source": [
        "## **Substraction**"
      ],
      "metadata": {
        "id": "yxfcjv-aZc0c"
      }
    },
    {
      "cell_type": "code",
      "source": [
        "m3 = np.array([[5, 3], [-2, 4]])\n",
        "m4 = np.array([[7, -5], [3, 8]])"
      ],
      "metadata": {
        "id": "WhVUtIC1Zhu7"
      },
      "execution_count": 17,
      "outputs": []
    },
    {
      "cell_type": "code",
      "source": [
        "m3 - m4"
      ],
      "metadata": {
        "colab": {
          "base_uri": "https://localhost:8080/"
        },
        "id": "SajP1WDkZ6ZS",
        "outputId": "12954555-0b7f-40ba-fc33-b5a169005b1c"
      },
      "execution_count": 18,
      "outputs": [
        {
          "output_type": "execute_result",
          "data": {
            "text/plain": [
              "array([[-2,  8],\n",
              "       [-5, -4]])"
            ]
          },
          "metadata": {},
          "execution_count": 18
        }
      ]
    },
    {
      "cell_type": "markdown",
      "source": [
        "# **Calculation of Vectors**"
      ],
      "metadata": {
        "id": "QWnfPgIuadc2"
      }
    },
    {
      "cell_type": "code",
      "source": [
        "v1 = np.array([1, 2, 3, 4, 5])\n",
        "v2 = np.array([5, 4, 3, 2, 1])"
      ],
      "metadata": {
        "id": "vp9qOW1Sacrb"
      },
      "execution_count": 19,
      "outputs": []
    },
    {
      "cell_type": "code",
      "source": [
        "v1 + v2"
      ],
      "metadata": {
        "colab": {
          "base_uri": "https://localhost:8080/"
        },
        "id": "hWYym42HabrW",
        "outputId": "9553a36b-c354-4cd8-bc8a-852201251f85"
      },
      "execution_count": 20,
      "outputs": [
        {
          "output_type": "execute_result",
          "data": {
            "text/plain": [
              "array([6, 6, 6, 6, 6])"
            ]
          },
          "metadata": {},
          "execution_count": 20
        }
      ]
    },
    {
      "cell_type": "code",
      "source": [
        "v1 - v2"
      ],
      "metadata": {
        "colab": {
          "base_uri": "https://localhost:8080/"
        },
        "id": "Av-keufIaxAD",
        "outputId": "b5751464-5a70-48a2-b33e-2fe18d6f06c8"
      },
      "execution_count": 21,
      "outputs": [
        {
          "output_type": "execute_result",
          "data": {
            "text/plain": [
              "array([-4, -2,  0,  2,  4])"
            ]
          },
          "metadata": {},
          "execution_count": 21
        }
      ]
    }
  ]
}