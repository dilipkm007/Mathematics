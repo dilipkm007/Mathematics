{
  "nbformat": 4,
  "nbformat_minor": 0,
  "metadata": {
    "colab": {
      "provenance": [],
      "authorship_tag": "ABX9TyObUv3YbUQT5bwKoSGP9MSK",
      "include_colab_link": true
    },
    "kernelspec": {
      "name": "python3",
      "display_name": "Python 3"
    },
    "language_info": {
      "name": "python"
    }
  },
  "cells": [
    {
      "cell_type": "markdown",
      "metadata": {
        "id": "view-in-github",
        "colab_type": "text"
      },
      "source": [
        "<a href=\"https://colab.research.google.com/github/dilipkm007/Mathematics/blob/main/Basic_Tensor.ipynb\" target=\"_parent\"><img src=\"https://colab.research.google.com/assets/colab-badge.svg\" alt=\"Open In Colab\"/></a>"
      ]
    },
    {
      "cell_type": "code",
      "execution_count": 12,
      "metadata": {
        "id": "3vZCrUz6UZ-4"
      },
      "outputs": [],
      "source": [
        "import numpy as np"
      ]
    },
    {
      "cell_type": "markdown",
      "source": [
        "<h1>Creating Tensor</h1>"
      ],
      "metadata": {
        "id": "iq__WKLlVC27"
      }
    },
    {
      "cell_type": "code",
      "source": [
        "m1 = np.array([[5, 12, 6], [-3, 0, 14]])\n",
        "m1"
      ],
      "metadata": {
        "colab": {
          "base_uri": "https://localhost:8080/"
        },
        "id": "_rmTA9GFUgVl",
        "outputId": "afc8bacf-0096-4ba2-8ae5-2070649485ad"
      },
      "execution_count": 13,
      "outputs": [
        {
          "output_type": "execute_result",
          "data": {
            "text/plain": [
              "array([[ 5, 12,  6],\n",
              "       [-3,  0, 14]])"
            ]
          },
          "metadata": {},
          "execution_count": 13
        }
      ]
    },
    {
      "cell_type": "code",
      "source": [
        "m2 = np.array([[9, 8, 7], [1, 3, -5]])\n",
        "m2"
      ],
      "metadata": {
        "colab": {
          "base_uri": "https://localhost:8080/"
        },
        "id": "yafBqPNOUm5I",
        "outputId": "23bc2c2a-0ade-42a5-a010-3ed40da748d1"
      },
      "execution_count": 14,
      "outputs": [
        {
          "output_type": "execute_result",
          "data": {
            "text/plain": [
              "array([[ 9,  8,  7],\n",
              "       [ 1,  3, -5]])"
            ]
          },
          "metadata": {},
          "execution_count": 14
        }
      ]
    },
    {
      "cell_type": "code",
      "source": [
        "t = np.array([m1, m2])\n",
        "t"
      ],
      "metadata": {
        "colab": {
          "base_uri": "https://localhost:8080/"
        },
        "id": "_Q-XsKrOVI5V",
        "outputId": "a50a0c0a-2eed-4229-9099-a353ecf3bb41"
      },
      "execution_count": 15,
      "outputs": [
        {
          "output_type": "execute_result",
          "data": {
            "text/plain": [
              "array([[[ 5, 12,  6],\n",
              "        [-3,  0, 14]],\n",
              "\n",
              "       [[ 9,  8,  7],\n",
              "        [ 1,  3, -5]]])"
            ]
          },
          "metadata": {},
          "execution_count": 15
        }
      ]
    },
    {
      "cell_type": "markdown",
      "source": [
        "<h1>Checking the shape of Tensor<h1>"
      ],
      "metadata": {
        "id": "fvbdXurhVQzt"
      }
    },
    {
      "cell_type": "code",
      "source": [
        "t.shape"
      ],
      "metadata": {
        "colab": {
          "base_uri": "https://localhost:8080/"
        },
        "id": "hk1jvH6WVPwg",
        "outputId": "26c7d0df-bd0d-44cb-aa5b-b0aa5984957e"
      },
      "execution_count": 16,
      "outputs": [
        {
          "output_type": "execute_result",
          "data": {
            "text/plain": [
              "(2, 2, 3)"
            ]
          },
          "metadata": {},
          "execution_count": 16
        }
      ]
    },
    {
      "cell_type": "markdown",
      "source": [
        "*Here in shape we see that 2 matrix each 2X3*\n"
      ],
      "metadata": {
        "id": "bddupjYwVfD_"
      }
    },
    {
      "cell_type": "markdown",
      "source": [
        "<h1>Another way to create Tensor</h1>"
      ],
      "metadata": {
        "id": "az8I5lYzV_RR"
      }
    },
    {
      "cell_type": "code",
      "source": [
        "t_manually = np.array([[[5, 12, 6], [-3, 0, 14]], [[9, 8, 7], [1, 3, -5]]])\n",
        "t_manually "
      ],
      "metadata": {
        "colab": {
          "base_uri": "https://localhost:8080/"
        },
        "id": "LS7XE4dGVoGh",
        "outputId": "567cc725-c047-4f28-ded4-05719bc03849"
      },
      "execution_count": 17,
      "outputs": [
        {
          "output_type": "execute_result",
          "data": {
            "text/plain": [
              "array([[[ 5, 12,  6],\n",
              "        [-3,  0, 14]],\n",
              "\n",
              "       [[ 9,  8,  7],\n",
              "        [ 1,  3, -5]]])"
            ]
          },
          "metadata": {},
          "execution_count": 17
        }
      ]
    },
    {
      "cell_type": "code",
      "source": [
        "t_manually .shape"
      ],
      "metadata": {
        "colab": {
          "base_uri": "https://localhost:8080/"
        },
        "id": "W9-gcINwWZRl",
        "outputId": "e896b8e0-2f63-40ab-b82b-61024497bb04"
      },
      "execution_count": 18,
      "outputs": [
        {
          "output_type": "execute_result",
          "data": {
            "text/plain": [
              "(2, 2, 3)"
            ]
          },
          "metadata": {},
          "execution_count": 18
        }
      ]
    }
  ]
}